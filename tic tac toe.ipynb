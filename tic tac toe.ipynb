{
 "cells": [
  {
   "cell_type": "code",
   "execution_count": null,
   "id": "2e5dcd73-a26d-420a-b467-c01c2f57f8a8",
   "metadata": {},
   "outputs": [
    {
     "name": "stdout",
     "output_type": "stream",
     "text": [
      " |  |\n",
      " |  |\n",
      " |  |\n",
      "----------\n",
      " |  |\n",
      " | x |\n",
      " |  |\n",
      "----------\n",
      "Draw\n"
     ]
    },
    {
     "name": "stdin",
     "output_type": "stream",
     "text": [
      "enter the position to insert: 4\n"
     ]
    },
    {
     "name": "stdout",
     "output_type": "stream",
     "text": [
      " |  |\n",
      "0 | x |\n",
      " |  |\n",
      "----------\n",
      "Draw\n",
      " |  |\n",
      "0 | x |\n",
      " |  |\n",
      "----------\n",
      " |  |\n",
      "0 | x |\n",
      " | x |\n",
      "----------\n",
      "Draw\n"
     ]
    }
   ],
   "source": [
    "import random\n",
    "\n",
    "board=[''] * 10\n",
    "computer = 'x'\n",
    "human = '0'\n",
    "def display_board(board):\n",
    "    print(f'{board[1]} | {board[2]} |{board[3]}')\n",
    "    print(f'{board[4]} | {board[5]} |{board[6]}')\n",
    "    print(f'{board[7]} | {board[8]} |{board[9]}')\n",
    "    print('-'*10)\n",
    "\n",
    "def check_win():\n",
    "    if board[1] == board[2] == board[3] and board[1] != '':\n",
    "        return True\n",
    "    elif board[4] == board[5] == board[6] and board[4] != '':\n",
    "        return True\n",
    "    elif board[7] == board[8] == board[9] and board[7] != '':\n",
    "        return True\n",
    "    elif board[1] == board[4] == board[7] and board[1] != '':\n",
    "        return True\n",
    "    elif board[2] == board[5] == board[8] and board[2] != '':\n",
    "        return True\n",
    "    elif board[3] == board[6] == board[9] and board[3] != '':\n",
    "        return True\n",
    "    elif board[1] == board[5] == board[9] and board[1] != '':\n",
    "        return True\n",
    "    elif board[7] == board[5] == board[3] and board[7] != '':\n",
    "        return True\n",
    "    else:\n",
    "        return False\n",
    "        \n",
    "def check_drew():\n",
    "    if board.count(' ') <2:\n",
    "        return True\n",
    "    else:\n",
    "        return False\n",
    "def is_available(pos):\n",
    "    return True if board[pos] ==''else False\n",
    "\n",
    "def insert(letter,pos):\n",
    "    if is_available(pos):\n",
    "        board[pos] = letter\n",
    "        display_board(board)\n",
    "        if check_win():\n",
    "            if letter == 'x':\n",
    "                print(\"computer wins\")\n",
    "                exit()\n",
    "            else:\n",
    "                print(\"you wins\")\n",
    "                exit()\n",
    "        if check_drew():\n",
    "            print(\"Draw\")\n",
    "            exit()\n",
    "    else:\n",
    "        if letter =='0':\n",
    "            pos =int(input(\"Not free.. please re-enter a position\"))\n",
    "        else:\n",
    "            pos = random.randinnt(1,9)\n",
    "        insert(letter,pos)\n",
    "\n",
    "def human_move(le75tter):\n",
    "     pos= int(input(\"enter the position to insert:\"))\n",
    "     insert(letter,pos)\n",
    "\n",
    "def computer_move(letter):\n",
    "    pos = random.randint(1, 9)\n",
    "    insert(letter, pos)\n",
    "   \n",
    "while not check_win():\n",
    "    display_board(board)\n",
    "    computer_move(computer)\n",
    "    human_move(human)\n"
   ]
  }
 ],
 "metadata": {
  "kernelspec": {
   "display_name": "Python 3 (ipykernel)",
   "language": "python",
   "name": "python3"
  },
  "language_info": {
   "codemirror_mode": {
    "name": "ipython",
    "version": 3
   },
   "file_extension": ".py",
   "mimetype": "text/x-python",
   "name": "python",
   "nbconvert_exporter": "python",
   "pygments_lexer": "ipython3",
   "version": "3.11.7"
  }
 },
 "nbformat": 4,
 "nbformat_minor": 5
}
